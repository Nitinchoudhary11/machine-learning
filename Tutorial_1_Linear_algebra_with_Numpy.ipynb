{
  "nbformat": 4,
  "nbformat_minor": 0,
  "metadata": {
    "anaconda-cloud": {},
    "celltoolbar": "Tags",
    "kernelspec": {
      "display_name": "Python [conda env:mwp]",
      "language": "python",
      "name": "conda-env-mwp-py"
    },
    "language_info": {
      "codemirror_mode": {
        "name": "ipython",
        "version": 3
      },
      "file_extension": ".py",
      "mimetype": "text/x-python",
      "name": "python",
      "nbconvert_exporter": "python",
      "pygments_lexer": "ipython3",
      "version": "3.7.0"
    },
    "colab": {
      "name": "Tutorial 1 :  Linear algebra with Numpy ",
      "provenance": [],
      "collapsed_sections": []
    }
  },
  "cells": [
    {
      "cell_type": "markdown",
      "metadata": {
        "id": "Hn8fzBmufOMe"
      },
      "source": [
        "# Linear algebra with Numpy\n",
        "\n",
        "\n",
        "\n",
        "NumPy is a library for the Python programming language, adding support for large, multi-dimensional arrays and matrices, along with a large collection of high-level mathematical functions to operate on these arrays. It contains among other things:\n",
        " useful linear algebra, Fourier transform, and random number capabilities. \n",
        "\n",
        "In this section we will see how to:\n",
        "\n",
        "- Manipulate matrices;\n",
        "- Solve Matrix equations;\n",
        "- Calculate Matrix inverse and determinants.\n",
        "- Dot and Cross product\n",
        "- Eigenvalues and Eigenvectors\n",
        "- Norm\n",
        "- Rank of Matrix\n",
        "- SVD\n"
      ]
    },
    {
      "cell_type": "markdown",
      "metadata": {
        "id": "JTto5jPOhk_c"
      },
      "source": [
        "## Manipulating matrices\n",
        "\n",
        "It is straightforward to create a Matrix using Numpy. Let us consider the following as a examples:\n",
        "\n",
        "$$\n",
        "A = \\begin{pmatrix}\n",
        "5 & 6 & 2\\\\\n",
        "4 & 7 & 19\\\\\n",
        "0 & 3 & 12\n",
        "\\end{pmatrix}\n",
        "$$\n",
        "\n",
        "$$\n",
        "B = \\begin{pmatrix}\n",
        "14 & -2 & 12\\\\\n",
        "4 & 4 & 5\\\\\n",
        "5 & 5 & 1\n",
        "\\end{pmatrix}\n",
        "$$\n",
        "\n",
        "\n",
        "First,  we need to import Numpy:"
      ]
    },
    {
      "cell_type": "code",
      "metadata": {
        "collapsed": true,
        "id": "g5AZ4M0GfOMh"
      },
      "source": [
        "import numpy as np"
      ],
      "execution_count": 35,
      "outputs": []
    },
    {
      "cell_type": "markdown",
      "metadata": {
        "id": "29KkDBi6fOMj"
      },
      "source": [
        "Now we can define $A$:"
      ]
    },
    {
      "cell_type": "code",
      "metadata": {
        "collapsed": true,
        "id": "0nioj_z0fOMl"
      },
      "source": [
        "A = np.matrix([[5, 6, 2],\n",
        "               [4, 7, 19],\n",
        "               [0, 3, 12]])"
      ],
      "execution_count": 36,
      "outputs": []
    },
    {
      "cell_type": "code",
      "metadata": {
        "id": "-MPPC9UTfOMm",
        "colab": {
          "base_uri": "https://localhost:8080/"
        },
        "outputId": "6cd95ca8-f22d-41ab-e8d2-461e680771c1"
      },
      "source": [
        "A"
      ],
      "execution_count": 37,
      "outputs": [
        {
          "output_type": "execute_result",
          "data": {
            "text/plain": [
              "matrix([[ 5,  6,  2],\n",
              "        [ 4,  7, 19],\n",
              "        [ 0,  3, 12]])"
            ]
          },
          "metadata": {
            "tags": []
          },
          "execution_count": 37
        }
      ]
    },
    {
      "cell_type": "code",
      "metadata": {
        "collapsed": true,
        "id": "j_qEnBYbfOMo"
      },
      "source": [
        "B = np.matrix([[14, -2, 12],\n",
        "               [4, 4, 5],\n",
        "               [5, 5, 1]])"
      ],
      "execution_count": 38,
      "outputs": []
    },
    {
      "cell_type": "code",
      "metadata": {
        "id": "omZ41KolfOMo",
        "colab": {
          "base_uri": "https://localhost:8080/"
        },
        "outputId": "e70336b6-b355-4180-d006-23115c9bc9c0"
      },
      "source": [
        "B"
      ],
      "execution_count": 39,
      "outputs": [
        {
          "output_type": "execute_result",
          "data": {
            "text/plain": [
              "matrix([[14, -2, 12],\n",
              "        [ 4,  4,  5],\n",
              "        [ 5,  5,  1]])"
            ]
          },
          "metadata": {
            "tags": []
          },
          "execution_count": 39
        }
      ]
    },
    {
      "cell_type": "code",
      "metadata": {
        "colab": {
          "base_uri": "https://localhost:8080/"
        },
        "id": "HDz8kMmnw-hb",
        "outputId": "40e5cd61-d30e-48a4-de73-18e6418bce3f"
      },
      "source": [
        "A.ndim "
      ],
      "execution_count": 40,
      "outputs": [
        {
          "output_type": "execute_result",
          "data": {
            "text/plain": [
              "2"
            ]
          },
          "metadata": {
            "tags": []
          },
          "execution_count": 40
        }
      ]
    },
    {
      "cell_type": "code",
      "metadata": {
        "colab": {
          "base_uri": "https://localhost:8080/"
        },
        "id": "okku-4zPw-kJ",
        "outputId": "efcfd342-225a-4e40-ed60-7fb86f64b466"
      },
      "source": [
        "B.ndim"
      ],
      "execution_count": 41,
      "outputs": [
        {
          "output_type": "execute_result",
          "data": {
            "text/plain": [
              "2"
            ]
          },
          "metadata": {
            "tags": []
          },
          "execution_count": 41
        }
      ]
    },
    {
      "cell_type": "markdown",
      "metadata": {
        "id": "lv3oWjI-fOMp"
      },
      "source": [
        "We can obtain the following straightforwardly:\n",
        "\n",
        "- $5A$ (or any other scalar multiple of $A$);\n",
        "- $A ^ 3$ (or any other exponent of $A$);\n",
        "- $A + B$;\n",
        "- $A - B$;\n",
        "- $AB$"
      ]
    },
    {
      "cell_type": "code",
      "metadata": {
        "id": "wEvalUVUfOMq",
        "colab": {
          "base_uri": "https://localhost:8080/"
        },
        "outputId": "09f904a1-6792-46cc-aa84-631f9708afe9"
      },
      "source": [
        "5 * A"
      ],
      "execution_count": 42,
      "outputs": [
        {
          "output_type": "execute_result",
          "data": {
            "text/plain": [
              "matrix([[25, 30, 10],\n",
              "        [20, 35, 95],\n",
              "        [ 0, 15, 60]])"
            ]
          },
          "metadata": {
            "tags": []
          },
          "execution_count": 42
        }
      ]
    },
    {
      "cell_type": "code",
      "metadata": {
        "id": "41woGh9-fOMr",
        "colab": {
          "base_uri": "https://localhost:8080/"
        },
        "outputId": "b150e1d9-44a5-4e0b-bf6c-dcd3cb0a19fe"
      },
      "source": [
        "A ** 3"
      ],
      "execution_count": 9,
      "outputs": [
        {
          "output_type": "execute_result",
          "data": {
            "text/plain": [
              "matrix([[ 557, 1284, 3356],\n",
              "        [ 760, 2305, 6994],\n",
              "        [ 288, 1074, 3519]])"
            ]
          },
          "metadata": {
            "tags": []
          },
          "execution_count": 9
        }
      ]
    },
    {
      "cell_type": "code",
      "metadata": {
        "id": "WCUtxJJdfOMr",
        "colab": {
          "base_uri": "https://localhost:8080/"
        },
        "outputId": "7355d540-e3fb-4cae-b393-0a11571adeda"
      },
      "source": [
        "A + B"
      ],
      "execution_count": 43,
      "outputs": [
        {
          "output_type": "execute_result",
          "data": {
            "text/plain": [
              "matrix([[19,  4, 14],\n",
              "        [ 8, 11, 24],\n",
              "        [ 5,  8, 13]])"
            ]
          },
          "metadata": {
            "tags": []
          },
          "execution_count": 43
        }
      ]
    },
    {
      "cell_type": "code",
      "metadata": {
        "id": "NzQDEF8CfOMs",
        "colab": {
          "base_uri": "https://localhost:8080/"
        },
        "outputId": "ab4a4cd6-c649-4a4a-91a9-cb169729324f"
      },
      "source": [
        "A - B"
      ],
      "execution_count": 44,
      "outputs": [
        {
          "output_type": "execute_result",
          "data": {
            "text/plain": [
              "matrix([[ -9,   8, -10],\n",
              "        [  0,   3,  14],\n",
              "        [ -5,  -2,  11]])"
            ]
          },
          "metadata": {
            "tags": []
          },
          "execution_count": 44
        }
      ]
    },
    {
      "cell_type": "code",
      "metadata": {
        "id": "ryLwfxN9fOMs",
        "colab": {
          "base_uri": "https://localhost:8080/"
        },
        "outputId": "2f2683a3-5942-434e-e388-81a8e5ca14ed"
      },
      "source": [
        "A * B"
      ],
      "execution_count": 45,
      "outputs": [
        {
          "output_type": "execute_result",
          "data": {
            "text/plain": [
              "matrix([[104,  24,  92],\n",
              "        [179, 115, 102],\n",
              "        [ 72,  72,  27]])"
            ]
          },
          "metadata": {
            "tags": []
          },
          "execution_count": 45
        }
      ]
    },
    {
      "cell_type": "markdown",
      "metadata": {
        "id": "QFoLVsSXzYR5"
      },
      "source": [
        "## Tranpose"
      ]
    },
    {
      "cell_type": "code",
      "metadata": {
        "colab": {
          "base_uri": "https://localhost:8080/"
        },
        "id": "pIvoZkJTzT7o",
        "outputId": "a98d0c58-f360-4f4c-9087-0f5a268201cd"
      },
      "source": [
        "A.T"
      ],
      "execution_count": 46,
      "outputs": [
        {
          "output_type": "execute_result",
          "data": {
            "text/plain": [
              "matrix([[ 5,  4,  0],\n",
              "        [ 6,  7,  3],\n",
              "        [ 2, 19, 12]])"
            ]
          },
          "metadata": {
            "tags": []
          },
          "execution_count": 46
        }
      ]
    },
    {
      "cell_type": "code",
      "metadata": {
        "colab": {
          "base_uri": "https://localhost:8080/"
        },
        "id": "BcXgGwUZH_jV",
        "outputId": "1fe6fbee-0740-4120-8776-e96b81c0e683"
      },
      "source": [
        "A"
      ],
      "execution_count": 47,
      "outputs": [
        {
          "output_type": "execute_result",
          "data": {
            "text/plain": [
              "matrix([[ 5,  6,  2],\n",
              "        [ 4,  7, 19],\n",
              "        [ 0,  3, 12]])"
            ]
          },
          "metadata": {
            "tags": []
          },
          "execution_count": 47
        }
      ]
    },
    {
      "cell_type": "markdown",
      "metadata": {
        "id": "ip12iRZ-fOMs"
      },
      "source": [
        "\n",
        "---\n",
        "\n",
        "## Solving Matrix equations\n",
        "\n",
        "\n",
        "\n",
        "Let us illustrate that with:\n",
        "$$5x_1 + 6x_2 + 2x_3 = -1$$$$4x_1 + 7x_2 + 19x_3 = 2$$$$0x_1 + 3x_2 + 12x_3 = 1$$\n",
        " Given the above system of equations we can represent the equations in matrix form as below \n",
        "\n",
        "$$\n",
        "A = \\begin{bmatrix}\n",
        "5 & 6 & 2\\\\\n",
        "4 & 7 & 19\\\\\n",
        "0 & 3 & 12\n",
        "\\end{bmatrix}\n",
        "$$\n",
        "\n",
        "\n",
        "$$\n",
        "b = \\begin{bmatrix}\n",
        "-1\\\\\n",
        "2\\\\\n",
        "1 \n",
        "\\end{bmatrix}\n",
        "$$\n",
        "\n",
        "\n",
        "$$\n",
        "x = \\begin{bmatrix}\n",
        "x_1\\\\\n",
        "x_2\\\\\n",
        "x_3 \n",
        "\\end{bmatrix}\n",
        "$$\n",
        "\n",
        "We can use Numpy to (efficiently) solve large systems of equations of the form:\n",
        "\n",
        "$$Ax=b$$\n",
        "$$\\Rightarrow x=A^{-1}b$$"
      ]
    },
    {
      "cell_type": "code",
      "metadata": {
        "collapsed": true,
        "id": "Xn9Vi_eUfOMt"
      },
      "source": [
        "A = np.matrix([[5, 6, 2],\n",
        "               [4, 7, 19],\n",
        "               [0, 3, 12]])\n",
        "b = np.matrix([[-1], [2], [1]])"
      ],
      "execution_count": 48,
      "outputs": []
    },
    {
      "cell_type": "markdown",
      "metadata": {
        "id": "-9Pn2b5ufOMt"
      },
      "source": [
        "We use the `linalg.solve` command:"
      ]
    },
    {
      "cell_type": "code",
      "metadata": {
        "id": "OF2P1UndfOMu",
        "colab": {
          "base_uri": "https://localhost:8080/"
        },
        "outputId": "e60185e7-ccf6-4f81-e139-bbcce68eaa92"
      },
      "source": [
        "x = np.linalg.solve(A, b)\n",
        "x"
      ],
      "execution_count": 49,
      "outputs": [
        {
          "output_type": "execute_result",
          "data": {
            "text/plain": [
              "matrix([[ 0.45736434],\n",
              "        [-0.62790698],\n",
              "        [ 0.24031008]])"
            ]
          },
          "metadata": {
            "tags": []
          },
          "execution_count": 49
        }
      ]
    },
    {
      "cell_type": "markdown",
      "metadata": {
        "id": "MJVFbpy4fOMu"
      },
      "source": [
        "We can verify our result:"
      ]
    },
    {
      "cell_type": "code",
      "metadata": {
        "id": "LVdJhtfsfOMu",
        "colab": {
          "base_uri": "https://localhost:8080/"
        },
        "outputId": "47033d30-599a-4fe7-9b2f-a4ee13f9ac9f"
      },
      "source": [
        " A.x #Formula to Verify           "
      ],
      "execution_count": 51,
      "outputs": [
        {
          "output_type": "execute_result",
          "data": {
            "text/plain": [
              "matrix([[-1],\n",
              "        [ 2],\n",
              "        [ 1]])"
            ]
          },
          "metadata": {
            "tags": []
          },
          "execution_count": 51
        }
      ]
    },
    {
      "cell_type": "markdown",
      "metadata": {
        "id": "LGkvyvvifOMv"
      },
      "source": [
        "\n",
        "\n",
        "## Matrix inversion and determinants\n",
        "\n",
        "Computing the inverse of a matrix is straightforward:\n",
        "$A^{-1}A=\\mathbb{1}$:"
      ]
    },
    {
      "cell_type": "code",
      "metadata": {
        "id": "zKSKtkMRfOMw",
        "colab": {
          "base_uri": "https://localhost:8080/"
        },
        "outputId": "bc6e11dc-64b4-48a7-86f5-38077738d083"
      },
      "source": [
        "A=np.matrix([[1,2,3],[4,5,6],[7,8,10]])\n",
        "Ainv = np.linalg.inv(A)\n",
        "Ainv"
      ],
      "execution_count": 54,
      "outputs": [
        {
          "output_type": "execute_result",
          "data": {
            "text/plain": [
              "matrix([[-0.66666667, -1.33333333,  1.        ],\n",
              "        [-0.66666667,  3.66666667, -2.        ],\n",
              "        [ 1.        , -2.        ,  1.        ]])"
            ]
          },
          "metadata": {
            "tags": []
          },
          "execution_count": 54
        }
      ]
    },
    {
      "cell_type": "markdown",
      "metadata": {
        "id": "5aZoyCGcfOMw"
      },
      "source": [
        "We can verify by:"
      ]
    },
    {
      "cell_type": "code",
      "metadata": {
        "tags": [
          "nbval-ignore-output"
        ],
        "id": "siH79o87fOMx",
        "colab": {
          "base_uri": "https://localhost:8080/"
        },
        "outputId": "f2162c77-d5c1-4568-97c7-9f65020c9fff"
      },
      "source": [
        "A*Ainv# Formula To Verify"
      ],
      "execution_count": 55,
      "outputs": [
        {
          "output_type": "execute_result",
          "data": {
            "text/plain": [
              "matrix([[1.00000000e+00, 0.00000000e+00, 1.11022302e-16],\n",
              "        [0.00000000e+00, 1.00000000e+00, 2.22044605e-16],\n",
              "        [8.88178420e-16, 0.00000000e+00, 1.00000000e+00]])"
            ]
          },
          "metadata": {
            "tags": []
          },
          "execution_count": 55
        }
      ]
    },
    {
      "cell_type": "markdown",
      "metadata": {
        "id": "Ekvgn0WRfOMx"
      },
      "source": [
        "The above might not look like the identity matrix but if you look closer you see that the diagonals are all `1` and the off diagonals are a **very** small number (which from a computer's point of view is `0`)."
      ]
    },
    {
      "cell_type": "markdown",
      "metadata": {
        "id": "gtg5_cuNfOMy"
      },
      "source": [
        "To calculate the determinant:"
      ]
    },
    {
      "cell_type": "code",
      "metadata": {
        "tags": [
          "nbval-ignore-output"
        ],
        "id": "YoFh4amJfOMy",
        "colab": {
          "base_uri": "https://localhost:8080/"
        },
        "outputId": "f674fb84-2349-4c2a-a0d9-456d8748c17d"
      },
      "source": [
        "np.linalg.det(A)"
      ],
      "execution_count": 56,
      "outputs": [
        {
          "output_type": "execute_result",
          "data": {
            "text/plain": [
              "-2.9999999999999996"
            ]
          },
          "metadata": {
            "tags": []
          },
          "execution_count": 56
        }
      ]
    },
    {
      "cell_type": "markdown",
      "metadata": {
        "id": "t1nTtSu1xYza"
      },
      "source": [
        "##Dot and Cross Multiplication \n",
        "\n",
        "The resultant of scalar product/dot product of two vectors is always a scalar quantity. Consider two vectors a and b. The scalar product is calculated as the product of magnitudes of a, b, and cosine of the angle between these vectors.\n",
        "\n",
        "\n",
        "The resultant of vector product/cross product of two vectors is always a vector quantity. Consider two vectors a and b. The vector product is calculated as the product of magnitudes of a, b, and sine of the angle between these vectors."
      ]
    },
    {
      "cell_type": "code",
      "metadata": {
        "id": "lh6Y58o7QIX-"
      },
      "source": [
        "A = np.matrix([[5, 6, 2],\n",
        "               [4, 7, 19],\n",
        "               [0, 3, 12]])\n",
        "B = np.matrix([[14, -2, 12],\n",
        "               [4, 4, 5],\n",
        "               [5, 5, 1]])"
      ],
      "execution_count": 57,
      "outputs": []
    },
    {
      "cell_type": "code",
      "metadata": {
        "colab": {
          "base_uri": "https://localhost:8080/"
        },
        "id": "KWASGTy0yhhR",
        "outputId": "29b24e90-db0e-435f-9648-9239b9cf4bd2"
      },
      "source": [
        "np.dot(A,B)"
      ],
      "execution_count": 58,
      "outputs": [
        {
          "output_type": "execute_result",
          "data": {
            "text/plain": [
              "matrix([[104,  24,  92],\n",
              "        [179, 115, 102],\n",
              "        [ 72,  72,  27]])"
            ]
          },
          "metadata": {
            "tags": []
          },
          "execution_count": 58
        }
      ]
    },
    {
      "cell_type": "code",
      "metadata": {
        "colab": {
          "base_uri": "https://localhost:8080/"
        },
        "id": "I46ca1wxz3x9",
        "outputId": "45925b10-8d37-4d46-eb4b-ececadf04c6d"
      },
      "source": [
        "np.cross(A,B)"
      ],
      "execution_count": 59,
      "outputs": [
        {
          "output_type": "execute_result",
          "data": {
            "text/plain": [
              "array([[ 76, -32, -94],\n",
              "       [-41,  56, -12],\n",
              "       [-57,  60, -15]])"
            ]
          },
          "metadata": {
            "tags": []
          },
          "execution_count": 59
        }
      ]
    },
    {
      "cell_type": "code",
      "metadata": {
        "colab": {
          "base_uri": "https://localhost:8080/"
        },
        "id": "8K7mBPOfHL5P",
        "outputId": "bdfcd59b-500e-4f23-9ff9-270ddbb8d314"
      },
      "source": [
        "C=np.matrix([[2,4,3],[4,1,8],[3,8,2]])\n",
        "if (C==C.T).all():#What should be the condition to check for symmetric matrix\n",
        "  print(\"symmetric\")"
      ],
      "execution_count": 65,
      "outputs": [
        {
          "output_type": "stream",
          "text": [
            "symmetric\n"
          ],
          "name": "stdout"
        }
      ]
    },
    {
      "cell_type": "markdown",
      "metadata": {
        "id": "vtKILI8s3DDO"
      },
      "source": [
        "##Normal Matrix Multiplication\n"
      ]
    },
    {
      "cell_type": "code",
      "metadata": {
        "colab": {
          "base_uri": "https://localhost:8080/"
        },
        "id": "a00m-50h2oSe",
        "outputId": "56341897-66d8-4efd-ef1a-fd70df8d868a"
      },
      "source": [
        " np.multiply(A,B)"
      ],
      "execution_count": 27,
      "outputs": [
        {
          "output_type": "execute_result",
          "data": {
            "text/plain": [
              "matrix([[ 70, -12,  24],\n",
              "        [ 16,  28,  95],\n",
              "        [  0,  15,  12]])"
            ]
          },
          "metadata": {
            "tags": []
          },
          "execution_count": 27
        }
      ]
    },
    {
      "cell_type": "markdown",
      "metadata": {
        "id": "BDy0iZNe3ikE"
      },
      "source": [
        "##Eigenvalues and Eigenvectors\n",
        "Eigen vector of a matrix A is a vector represented by a matrix X such that when X is multiplied with matrix A, then the direction of the resultant matrix remains same as vector X.\n",
        "\n",
        "Eigenvalue is the scalar that is used to transform (stretch) an Eigenvector.\n"
      ]
    },
    {
      "cell_type": "code",
      "metadata": {
        "colab": {
          "base_uri": "https://localhost:8080/"
        },
        "id": "FOi5Tmdm3OuN",
        "outputId": "53d6b086-f4a4-4e0b-b60e-5cdd6335bbd0"
      },
      "source": [
        "np.linalg.eig(A)"
      ],
      "execution_count": 28,
      "outputs": [
        {
          "output_type": "execute_result",
          "data": {
            "text/plain": [
              "(array([-1.03997841,  6.80080283, 18.23917558]),\n",
              " matrix([[ 0.6664281 ,  0.91899137,  0.42824655],\n",
              "         [-0.72658863,  0.34150445,  0.81440731],\n",
              "         [ 0.16716024, -0.19705222,  0.39159371]]))"
            ]
          },
          "metadata": {
            "tags": []
          },
          "execution_count": 28
        }
      ]
    },
    {
      "cell_type": "markdown",
      "metadata": {
        "id": "AigYCFRzrx21"
      },
      "source": [
        "##Norms\n",
        "Distance of the vector from the origin.\n",
        "\n",
        "L1 norm = $||x||_1 = \\sqrt{\\sum\\nolimits_{i = 1}^{n}{|x_i|}}$\n",
        "\n",
        "L2 norm = $||x||_2 = \\sqrt{\\sum\\nolimits_{i = 1}^{n}{(x_i)^2}}$"
      ]
    },
    {
      "cell_type": "code",
      "metadata": {
        "colab": {
          "base_uri": "https://localhost:8080/"
        },
        "id": "Up2zWOWMskRe",
        "outputId": "0525ef72-8cda-405a-c331-5abe2dce98b7"
      },
      "source": [
        "D=np.matrix([[1,2,3],[4,5,6]])\n",
        "np.linalg.norm(D)# L2 Norm by default"
      ],
      "execution_count": 66,
      "outputs": [
        {
          "output_type": "execute_result",
          "data": {
            "text/plain": [
              "9.539392014169456"
            ]
          },
          "metadata": {
            "tags": []
          },
          "execution_count": 66
        }
      ]
    },
    {
      "cell_type": "code",
      "metadata": {
        "colab": {
          "base_uri": "https://localhost:8080/"
        },
        "id": "344KsNrJtESP",
        "outputId": "667662ce-14f5-4727-d97c-920e9f68e924"
      },
      "source": [
        "np.linalg.norm(D,1)#L1 Norm"
      ],
      "execution_count": 67,
      "outputs": [
        {
          "output_type": "execute_result",
          "data": {
            "text/plain": [
              "9.0"
            ]
          },
          "metadata": {
            "tags": []
          },
          "execution_count": 67
        }
      ]
    },
    {
      "cell_type": "code",
      "metadata": {
        "colab": {
          "base_uri": "https://localhost:8080/"
        },
        "id": "XFt21I0LtEVf",
        "outputId": "b6a447b9-106b-4258-fecc-182d5a1013f3"
      },
      "source": [
        "np.linalg.norm(D,axis=0) # Norm according to column"
      ],
      "execution_count": 68,
      "outputs": [
        {
          "output_type": "execute_result",
          "data": {
            "text/plain": [
              "array([4.12310563, 5.38516481, 6.70820393])"
            ]
          },
          "metadata": {
            "tags": []
          },
          "execution_count": 68
        }
      ]
    },
    {
      "cell_type": "code",
      "metadata": {
        "colab": {
          "base_uri": "https://localhost:8080/"
        },
        "id": "Rl0e-DDgtEYq",
        "outputId": "f280ddd3-fb4e-4d46-e54f-f83ad452780c"
      },
      "source": [
        "np.linalg.norm(D,axis=1) # Norm according to row"
      ],
      "execution_count": 69,
      "outputs": [
        {
          "output_type": "execute_result",
          "data": {
            "text/plain": [
              "array([3.74165739, 8.77496439])"
            ]
          },
          "metadata": {
            "tags": []
          },
          "execution_count": 69
        }
      ]
    },
    {
      "cell_type": "markdown",
      "metadata": {
        "id": "CP19IFkLtiem"
      },
      "source": [
        "## Rank of Matrix\n",
        "The rank of the matrix refers to the number of linearly independent rows or columns in the matrix"
      ]
    },
    {
      "cell_type": "code",
      "metadata": {
        "colab": {
          "base_uri": "https://localhost:8080/"
        },
        "id": "BkvTI1jdu5AI",
        "outputId": "3d8a6dc0-6b08-4d41-95ae-ee7ceb5f56c9"
      },
      "source": [
        "np.linalg.matrix_rank(D)"
      ],
      "execution_count": 33,
      "outputs": [
        {
          "output_type": "execute_result",
          "data": {
            "text/plain": [
              "2"
            ]
          },
          "metadata": {
            "tags": []
          },
          "execution_count": 33
        }
      ]
    },
    {
      "cell_type": "markdown",
      "metadata": {
        "id": "vM1QuB-lvhFi"
      },
      "source": [
        "## Single Value Decomposition (SVD)\n",
        "\n",
        "Singular Value Decomposition (SVD) of a matrix is a factorization of that matrix into three matrices. $A=UDV^T$, where\n",
        "\n",
        "D is a diagonal matrix, with d=rank(A) non-zero elements\n",
        "\n",
        "The fist d rows of U are orthogonal basis for col(A)\n",
        "\n",
        "The fist d rows of V are orthogonal basis for row(A)"
      ]
    },
    {
      "cell_type": "code",
      "metadata": {
        "colab": {
          "base_uri": "https://localhost:8080/"
        },
        "id": "v8Q1SyQHvakY",
        "outputId": "97bf4309-b444-4218-cadc-7910e77bc40d"
      },
      "source": [
        "np.linalg.svd(D)"
      ],
      "execution_count": 70,
      "outputs": [
        {
          "output_type": "execute_result",
          "data": {
            "text/plain": [
              "(matrix([[-0.3863177 , -0.92236578],\n",
              "         [-0.92236578,  0.3863177 ]]),\n",
              " array([9.508032  , 0.77286964]),\n",
              " matrix([[-0.42866713, -0.56630692, -0.7039467 ],\n",
              "         [ 0.80596391,  0.11238241, -0.58119908],\n",
              "         [ 0.40824829, -0.81649658,  0.40824829]]))"
            ]
          },
          "metadata": {
            "tags": []
          },
          "execution_count": 70
        }
      ]
    },
    {
      "cell_type": "markdown",
      "metadata": {
        "id": "81EOnWLbfOM1"
      },
      "source": [
        "\n",
        "\n",
        "## Summary\n",
        "\n",
        "In this tutorial we have seen how to using Numpy:\n",
        "\n",
        "- Manipulate matrices;\n",
        "- Solve linear systems;\n",
        "- Compute Matrix inverses and determinants.\n",
        "- Dot and Cross product\n",
        "- Eigenvalues and Eigenvectors\n",
        "- Norm\n",
        "- Rank of Matrix\n",
        "- SVD\n",
        "\n",
        "This again just touches on the capabilities of Numpy.\n",
        "\n"
      ]
    },
    {
      "cell_type": "markdown",
      "metadata": {
        "id": "F8tHGB-StbRd"
      },
      "source": [
        ""
      ]
    }
  ]
}