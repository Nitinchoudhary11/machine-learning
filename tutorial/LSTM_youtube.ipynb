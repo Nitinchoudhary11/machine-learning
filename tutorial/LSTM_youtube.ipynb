{
  "nbformat": 4,
  "nbformat_minor": 0,
  "metadata": {
    "colab": {
      "name": "LSTM_youtube.ipynb",
      "provenance": []
    },
    "kernelspec": {
      "name": "python3",
      "display_name": "Python 3"
    },
    "language_info": {
      "name": "python"
    }
  },
  "cells": [
    {
      "cell_type": "code",
      "metadata": {
        "id": "f7Y2uC3vaZtU"
      },
      "source": [
        "import numpy as np\n",
        "\n",
        "from keras.models import Sequential\n",
        "from keras.layers import Dense\n",
        "from keras.layers import LSTM\n"
      ],
      "execution_count": 1,
      "outputs": []
    },
    {
      "cell_type": "code",
      "metadata": {
        "id": "5spTMKG_eOvR"
      },
      "source": [
        "import matplotlib.pyplot as plt\n"
      ],
      "execution_count": 23,
      "outputs": []
    },
    {
      "cell_type": "code",
      "metadata": {
        "id": "H40VzZ2barOR"
      },
      "source": [
        "leng=3\n",
        "\n",
        "data = [[i+j for j in range(leng)] for i in range(100)]\n",
        "data = np.array(data, dtype=np.float32)\n",
        "target = [[i+j+1 for j in range(leng)] for i in range(1,101)]\n",
        "target = np.array(target, dtype=np.float32)"
      ],
      "execution_count": 6,
      "outputs": []
    },
    {
      "cell_type": "code",
      "metadata": {
        "colab": {
          "base_uri": "https://localhost:8080/"
        },
        "id": "3hxNh-DRa_bR",
        "outputId": "cf8f1ac6-7f06-4525-8655-9dc2806cc3cb"
      },
      "source": [
        "data"
      ],
      "execution_count": 7,
      "outputs": [
        {
          "output_type": "execute_result",
          "data": {
            "text/plain": [
              "array([[  0.,   1.,   2.],\n",
              "       [  1.,   2.,   3.],\n",
              "       [  2.,   3.,   4.],\n",
              "       [  3.,   4.,   5.],\n",
              "       [  4.,   5.,   6.],\n",
              "       [  5.,   6.,   7.],\n",
              "       [  6.,   7.,   8.],\n",
              "       [  7.,   8.,   9.],\n",
              "       [  8.,   9.,  10.],\n",
              "       [  9.,  10.,  11.],\n",
              "       [ 10.,  11.,  12.],\n",
              "       [ 11.,  12.,  13.],\n",
              "       [ 12.,  13.,  14.],\n",
              "       [ 13.,  14.,  15.],\n",
              "       [ 14.,  15.,  16.],\n",
              "       [ 15.,  16.,  17.],\n",
              "       [ 16.,  17.,  18.],\n",
              "       [ 17.,  18.,  19.],\n",
              "       [ 18.,  19.,  20.],\n",
              "       [ 19.,  20.,  21.],\n",
              "       [ 20.,  21.,  22.],\n",
              "       [ 21.,  22.,  23.],\n",
              "       [ 22.,  23.,  24.],\n",
              "       [ 23.,  24.,  25.],\n",
              "       [ 24.,  25.,  26.],\n",
              "       [ 25.,  26.,  27.],\n",
              "       [ 26.,  27.,  28.],\n",
              "       [ 27.,  28.,  29.],\n",
              "       [ 28.,  29.,  30.],\n",
              "       [ 29.,  30.,  31.],\n",
              "       [ 30.,  31.,  32.],\n",
              "       [ 31.,  32.,  33.],\n",
              "       [ 32.,  33.,  34.],\n",
              "       [ 33.,  34.,  35.],\n",
              "       [ 34.,  35.,  36.],\n",
              "       [ 35.,  36.,  37.],\n",
              "       [ 36.,  37.,  38.],\n",
              "       [ 37.,  38.,  39.],\n",
              "       [ 38.,  39.,  40.],\n",
              "       [ 39.,  40.,  41.],\n",
              "       [ 40.,  41.,  42.],\n",
              "       [ 41.,  42.,  43.],\n",
              "       [ 42.,  43.,  44.],\n",
              "       [ 43.,  44.,  45.],\n",
              "       [ 44.,  45.,  46.],\n",
              "       [ 45.,  46.,  47.],\n",
              "       [ 46.,  47.,  48.],\n",
              "       [ 47.,  48.,  49.],\n",
              "       [ 48.,  49.,  50.],\n",
              "       [ 49.,  50.,  51.],\n",
              "       [ 50.,  51.,  52.],\n",
              "       [ 51.,  52.,  53.],\n",
              "       [ 52.,  53.,  54.],\n",
              "       [ 53.,  54.,  55.],\n",
              "       [ 54.,  55.,  56.],\n",
              "       [ 55.,  56.,  57.],\n",
              "       [ 56.,  57.,  58.],\n",
              "       [ 57.,  58.,  59.],\n",
              "       [ 58.,  59.,  60.],\n",
              "       [ 59.,  60.,  61.],\n",
              "       [ 60.,  61.,  62.],\n",
              "       [ 61.,  62.,  63.],\n",
              "       [ 62.,  63.,  64.],\n",
              "       [ 63.,  64.,  65.],\n",
              "       [ 64.,  65.,  66.],\n",
              "       [ 65.,  66.,  67.],\n",
              "       [ 66.,  67.,  68.],\n",
              "       [ 67.,  68.,  69.],\n",
              "       [ 68.,  69.,  70.],\n",
              "       [ 69.,  70.,  71.],\n",
              "       [ 70.,  71.,  72.],\n",
              "       [ 71.,  72.,  73.],\n",
              "       [ 72.,  73.,  74.],\n",
              "       [ 73.,  74.,  75.],\n",
              "       [ 74.,  75.,  76.],\n",
              "       [ 75.,  76.,  77.],\n",
              "       [ 76.,  77.,  78.],\n",
              "       [ 77.,  78.,  79.],\n",
              "       [ 78.,  79.,  80.],\n",
              "       [ 79.,  80.,  81.],\n",
              "       [ 80.,  81.,  82.],\n",
              "       [ 81.,  82.,  83.],\n",
              "       [ 82.,  83.,  84.],\n",
              "       [ 83.,  84.,  85.],\n",
              "       [ 84.,  85.,  86.],\n",
              "       [ 85.,  86.,  87.],\n",
              "       [ 86.,  87.,  88.],\n",
              "       [ 87.,  88.,  89.],\n",
              "       [ 88.,  89.,  90.],\n",
              "       [ 89.,  90.,  91.],\n",
              "       [ 90.,  91.,  92.],\n",
              "       [ 91.,  92.,  93.],\n",
              "       [ 92.,  93.,  94.],\n",
              "       [ 93.,  94.,  95.],\n",
              "       [ 94.,  95.,  96.],\n",
              "       [ 95.,  96.,  97.],\n",
              "       [ 96.,  97.,  98.],\n",
              "       [ 97.,  98.,  99.],\n",
              "       [ 98.,  99., 100.],\n",
              "       [ 99., 100., 101.]], dtype=float32)"
            ]
          },
          "metadata": {},
          "execution_count": 7
        }
      ]
    },
    {
      "cell_type": "code",
      "metadata": {
        "colab": {
          "base_uri": "https://localhost:8080/"
        },
        "id": "qXIrg_JpbAjx",
        "outputId": "a1e6b0d7-31ca-4ef6-a27c-3254af609640"
      },
      "source": [
        "target"
      ],
      "execution_count": 8,
      "outputs": [
        {
          "output_type": "execute_result",
          "data": {
            "text/plain": [
              "array([[  2.,   3.,   4.],\n",
              "       [  3.,   4.,   5.],\n",
              "       [  4.,   5.,   6.],\n",
              "       [  5.,   6.,   7.],\n",
              "       [  6.,   7.,   8.],\n",
              "       [  7.,   8.,   9.],\n",
              "       [  8.,   9.,  10.],\n",
              "       [  9.,  10.,  11.],\n",
              "       [ 10.,  11.,  12.],\n",
              "       [ 11.,  12.,  13.],\n",
              "       [ 12.,  13.,  14.],\n",
              "       [ 13.,  14.,  15.],\n",
              "       [ 14.,  15.,  16.],\n",
              "       [ 15.,  16.,  17.],\n",
              "       [ 16.,  17.,  18.],\n",
              "       [ 17.,  18.,  19.],\n",
              "       [ 18.,  19.,  20.],\n",
              "       [ 19.,  20.,  21.],\n",
              "       [ 20.,  21.,  22.],\n",
              "       [ 21.,  22.,  23.],\n",
              "       [ 22.,  23.,  24.],\n",
              "       [ 23.,  24.,  25.],\n",
              "       [ 24.,  25.,  26.],\n",
              "       [ 25.,  26.,  27.],\n",
              "       [ 26.,  27.,  28.],\n",
              "       [ 27.,  28.,  29.],\n",
              "       [ 28.,  29.,  30.],\n",
              "       [ 29.,  30.,  31.],\n",
              "       [ 30.,  31.,  32.],\n",
              "       [ 31.,  32.,  33.],\n",
              "       [ 32.,  33.,  34.],\n",
              "       [ 33.,  34.,  35.],\n",
              "       [ 34.,  35.,  36.],\n",
              "       [ 35.,  36.,  37.],\n",
              "       [ 36.,  37.,  38.],\n",
              "       [ 37.,  38.,  39.],\n",
              "       [ 38.,  39.,  40.],\n",
              "       [ 39.,  40.,  41.],\n",
              "       [ 40.,  41.,  42.],\n",
              "       [ 41.,  42.,  43.],\n",
              "       [ 42.,  43.,  44.],\n",
              "       [ 43.,  44.,  45.],\n",
              "       [ 44.,  45.,  46.],\n",
              "       [ 45.,  46.,  47.],\n",
              "       [ 46.,  47.,  48.],\n",
              "       [ 47.,  48.,  49.],\n",
              "       [ 48.,  49.,  50.],\n",
              "       [ 49.,  50.,  51.],\n",
              "       [ 50.,  51.,  52.],\n",
              "       [ 51.,  52.,  53.],\n",
              "       [ 52.,  53.,  54.],\n",
              "       [ 53.,  54.,  55.],\n",
              "       [ 54.,  55.,  56.],\n",
              "       [ 55.,  56.,  57.],\n",
              "       [ 56.,  57.,  58.],\n",
              "       [ 57.,  58.,  59.],\n",
              "       [ 58.,  59.,  60.],\n",
              "       [ 59.,  60.,  61.],\n",
              "       [ 60.,  61.,  62.],\n",
              "       [ 61.,  62.,  63.],\n",
              "       [ 62.,  63.,  64.],\n",
              "       [ 63.,  64.,  65.],\n",
              "       [ 64.,  65.,  66.],\n",
              "       [ 65.,  66.,  67.],\n",
              "       [ 66.,  67.,  68.],\n",
              "       [ 67.,  68.,  69.],\n",
              "       [ 68.,  69.,  70.],\n",
              "       [ 69.,  70.,  71.],\n",
              "       [ 70.,  71.,  72.],\n",
              "       [ 71.,  72.,  73.],\n",
              "       [ 72.,  73.,  74.],\n",
              "       [ 73.,  74.,  75.],\n",
              "       [ 74.,  75.,  76.],\n",
              "       [ 75.,  76.,  77.],\n",
              "       [ 76.,  77.,  78.],\n",
              "       [ 77.,  78.,  79.],\n",
              "       [ 78.,  79.,  80.],\n",
              "       [ 79.,  80.,  81.],\n",
              "       [ 80.,  81.,  82.],\n",
              "       [ 81.,  82.,  83.],\n",
              "       [ 82.,  83.,  84.],\n",
              "       [ 83.,  84.,  85.],\n",
              "       [ 84.,  85.,  86.],\n",
              "       [ 85.,  86.,  87.],\n",
              "       [ 86.,  87.,  88.],\n",
              "       [ 87.,  88.,  89.],\n",
              "       [ 88.,  89.,  90.],\n",
              "       [ 89.,  90.,  91.],\n",
              "       [ 90.,  91.,  92.],\n",
              "       [ 91.,  92.,  93.],\n",
              "       [ 92.,  93.,  94.],\n",
              "       [ 93.,  94.,  95.],\n",
              "       [ 94.,  95.,  96.],\n",
              "       [ 95.,  96.,  97.],\n",
              "       [ 96.,  97.,  98.],\n",
              "       [ 97.,  98.,  99.],\n",
              "       [ 98.,  99., 100.],\n",
              "       [ 99., 100., 101.],\n",
              "       [100., 101., 102.],\n",
              "       [101., 102., 103.]], dtype=float32)"
            ]
          },
          "metadata": {},
          "execution_count": 8
        }
      ]
    },
    {
      "cell_type": "code",
      "metadata": {
        "id": "i-QuxKfsbDG5"
      },
      "source": [
        "# divided by 200 get normaliztion otherwse gardient value will be not good and prediction iwill be bad\n",
        "data = data.reshape(100, 1, leng)/200\n",
        "target = target.reshape(100,1,leng)/200"
      ],
      "execution_count": 9,
      "outputs": []
    },
    {
      "cell_type": "code",
      "metadata": {
        "id": "5FX-ewa4bIvZ"
      },
      "source": [
        " #Build Model\n",
        "# return sequence = true means each layer passes its value to the neaxt layer\n",
        "model = Sequential()  \n",
        "model.add(LSTM(leng, input_shape=(1, leng),return_sequences=True,activation='sigmoid'))\n",
        "model.add(LSTM(leng, input_shape=(1, leng),return_sequences=True,activation='sigmoid'))\n",
        "model.add(LSTM(leng, input_shape=(1, leng),return_sequences=True,activation='sigmoid'))\n",
        "model.add(LSTM(leng, input_shape=(1, leng),return_sequences=True,activation='sigmoid'))\n",
        "model.add(LSTM(leng, input_shape=(1, leng),return_sequences=True,activation='sigmoid'))\n",
        "model.add(LSTM(leng, input_shape=(1, leng),return_sequences=True,activation='sigmoid'))\n"
      ],
      "execution_count": 17,
      "outputs": []
    },
    {
      "cell_type": "code",
      "metadata": {
        "id": "qYUMoh5ygD5x"
      },
      "source": [
        "model.compile(loss='mse', optimizer='adam',metrics=['accuracy'])\n"
      ],
      "execution_count": 30,
      "outputs": []
    },
    {
      "cell_type": "code",
      "metadata": {
        "colab": {
          "base_uri": "https://localhost:8080/"
        },
        "id": "Y8kAs8XNcV8r",
        "outputId": "0271a962-c63f-4879-8bca-8667a0056fe8"
      },
      "source": [
        "history=model.fit(data, target,epochs=100, batch_size=50,validation_data=(data,target))\n",
        "\n",
        "\n"
      ],
      "execution_count": 18,
      "outputs": [
        {
          "output_type": "stream",
          "name": "stdout",
          "text": [
            "Epoch 1/100\n",
            "2/2 [==============================] - 7s 1s/step - loss: 0.0221 - accuracy: 0.0000e+00 - val_loss: 0.0220 - val_accuracy: 0.0000e+00\n",
            "Epoch 2/100\n",
            "2/2 [==============================] - 0s 32ms/step - loss: 0.0220 - accuracy: 0.0000e+00 - val_loss: 0.0220 - val_accuracy: 0.0000e+00\n",
            "Epoch 3/100\n",
            "2/2 [==============================] - 0s 34ms/step - loss: 0.0220 - accuracy: 0.0000e+00 - val_loss: 0.0220 - val_accuracy: 0.0000e+00\n",
            "Epoch 4/100\n",
            "2/2 [==============================] - 0s 32ms/step - loss: 0.0220 - accuracy: 0.0000e+00 - val_loss: 0.0219 - val_accuracy: 0.0000e+00\n",
            "Epoch 5/100\n",
            "2/2 [==============================] - 0s 34ms/step - loss: 0.0219 - accuracy: 0.0000e+00 - val_loss: 0.0219 - val_accuracy: 0.0000e+00\n",
            "Epoch 6/100\n",
            "2/2 [==============================] - 0s 32ms/step - loss: 0.0219 - accuracy: 0.0000e+00 - val_loss: 0.0219 - val_accuracy: 0.0000e+00\n",
            "Epoch 7/100\n",
            "2/2 [==============================] - 0s 32ms/step - loss: 0.0219 - accuracy: 0.0000e+00 - val_loss: 0.0218 - val_accuracy: 0.0000e+00\n",
            "Epoch 8/100\n",
            "2/2 [==============================] - 0s 31ms/step - loss: 0.0218 - accuracy: 0.0000e+00 - val_loss: 0.0218 - val_accuracy: 0.0000e+00\n",
            "Epoch 9/100\n",
            "2/2 [==============================] - 0s 41ms/step - loss: 0.0218 - accuracy: 0.0000e+00 - val_loss: 0.0218 - val_accuracy: 0.0000e+00\n",
            "Epoch 10/100\n",
            "2/2 [==============================] - 0s 33ms/step - loss: 0.0218 - accuracy: 0.0000e+00 - val_loss: 0.0217 - val_accuracy: 0.0000e+00\n",
            "Epoch 11/100\n",
            "2/2 [==============================] - 0s 41ms/step - loss: 0.0217 - accuracy: 0.0000e+00 - val_loss: 0.0217 - val_accuracy: 0.0000e+00\n",
            "Epoch 12/100\n",
            "2/2 [==============================] - 0s 44ms/step - loss: 0.0217 - accuracy: 0.0000e+00 - val_loss: 0.0217 - val_accuracy: 0.0000e+00\n",
            "Epoch 13/100\n",
            "2/2 [==============================] - 0s 33ms/step - loss: 0.0217 - accuracy: 0.0000e+00 - val_loss: 0.0217 - val_accuracy: 0.0000e+00\n",
            "Epoch 14/100\n",
            "2/2 [==============================] - 0s 32ms/step - loss: 0.0217 - accuracy: 0.0000e+00 - val_loss: 0.0216 - val_accuracy: 0.0000e+00\n",
            "Epoch 15/100\n",
            "2/2 [==============================] - 0s 36ms/step - loss: 0.0216 - accuracy: 0.0000e+00 - val_loss: 0.0216 - val_accuracy: 0.0000e+00\n",
            "Epoch 16/100\n",
            "2/2 [==============================] - 0s 49ms/step - loss: 0.0216 - accuracy: 0.0000e+00 - val_loss: 0.0216 - val_accuracy: 0.0000e+00\n",
            "Epoch 17/100\n",
            "2/2 [==============================] - 0s 35ms/step - loss: 0.0216 - accuracy: 0.0000e+00 - val_loss: 0.0215 - val_accuracy: 0.0000e+00\n",
            "Epoch 18/100\n",
            "2/2 [==============================] - 0s 32ms/step - loss: 0.0215 - accuracy: 0.0000e+00 - val_loss: 0.0215 - val_accuracy: 0.0000e+00\n",
            "Epoch 19/100\n",
            "2/2 [==============================] - 0s 51ms/step - loss: 0.0215 - accuracy: 0.0000e+00 - val_loss: 0.0215 - val_accuracy: 0.0000e+00\n",
            "Epoch 20/100\n",
            "2/2 [==============================] - 0s 39ms/step - loss: 0.0215 - accuracy: 0.0000e+00 - val_loss: 0.0215 - val_accuracy: 0.0000e+00\n",
            "Epoch 21/100\n",
            "2/2 [==============================] - 0s 52ms/step - loss: 0.0215 - accuracy: 0.0000e+00 - val_loss: 0.0215 - val_accuracy: 0.0000e+00\n",
            "Epoch 22/100\n",
            "2/2 [==============================] - 0s 32ms/step - loss: 0.0215 - accuracy: 0.0000e+00 - val_loss: 0.0214 - val_accuracy: 0.0000e+00\n",
            "Epoch 23/100\n",
            "2/2 [==============================] - 0s 30ms/step - loss: 0.0214 - accuracy: 0.0000e+00 - val_loss: 0.0214 - val_accuracy: 0.0000e+00\n",
            "Epoch 24/100\n",
            "2/2 [==============================] - 0s 33ms/step - loss: 0.0214 - accuracy: 0.0000e+00 - val_loss: 0.0214 - val_accuracy: 0.0000e+00\n",
            "Epoch 25/100\n",
            "2/2 [==============================] - 0s 34ms/step - loss: 0.0214 - accuracy: 0.0000e+00 - val_loss: 0.0214 - val_accuracy: 0.0000e+00\n",
            "Epoch 26/100\n",
            "2/2 [==============================] - 0s 37ms/step - loss: 0.0214 - accuracy: 0.0000e+00 - val_loss: 0.0214 - val_accuracy: 0.0000e+00\n",
            "Epoch 27/100\n",
            "2/2 [==============================] - 0s 39ms/step - loss: 0.0214 - accuracy: 0.0000e+00 - val_loss: 0.0213 - val_accuracy: 0.0000e+00\n",
            "Epoch 28/100\n",
            "2/2 [==============================] - 0s 49ms/step - loss: 0.0213 - accuracy: 0.0000e+00 - val_loss: 0.0213 - val_accuracy: 0.0000e+00\n",
            "Epoch 29/100\n",
            "2/2 [==============================] - 0s 34ms/step - loss: 0.0213 - accuracy: 0.0000e+00 - val_loss: 0.0213 - val_accuracy: 0.0000e+00\n",
            "Epoch 30/100\n",
            "2/2 [==============================] - 0s 43ms/step - loss: 0.0213 - accuracy: 0.0000e+00 - val_loss: 0.0213 - val_accuracy: 0.0000e+00\n",
            "Epoch 31/100\n",
            "2/2 [==============================] - 0s 43ms/step - loss: 0.0213 - accuracy: 0.0000e+00 - val_loss: 0.0213 - val_accuracy: 0.0000e+00\n",
            "Epoch 32/100\n",
            "2/2 [==============================] - 0s 37ms/step - loss: 0.0213 - accuracy: 0.0000e+00 - val_loss: 0.0213 - val_accuracy: 0.0000e+00\n",
            "Epoch 33/100\n",
            "2/2 [==============================] - 0s 32ms/step - loss: 0.0213 - accuracy: 0.0000e+00 - val_loss: 0.0212 - val_accuracy: 0.0000e+00\n",
            "Epoch 34/100\n",
            "2/2 [==============================] - 0s 37ms/step - loss: 0.0212 - accuracy: 0.0000e+00 - val_loss: 0.0212 - val_accuracy: 0.0000e+00\n",
            "Epoch 35/100\n",
            "2/2 [==============================] - 0s 34ms/step - loss: 0.0212 - accuracy: 0.0000e+00 - val_loss: 0.0212 - val_accuracy: 0.0000e+00\n",
            "Epoch 36/100\n",
            "2/2 [==============================] - 0s 38ms/step - loss: 0.0212 - accuracy: 0.0000e+00 - val_loss: 0.0212 - val_accuracy: 0.0000e+00\n",
            "Epoch 37/100\n",
            "2/2 [==============================] - 0s 39ms/step - loss: 0.0212 - accuracy: 0.0000e+00 - val_loss: 0.0212 - val_accuracy: 0.0000e+00\n",
            "Epoch 38/100\n",
            "2/2 [==============================] - 0s 34ms/step - loss: 0.0212 - accuracy: 0.0000e+00 - val_loss: 0.0212 - val_accuracy: 0.0000e+00\n",
            "Epoch 39/100\n",
            "2/2 [==============================] - 0s 37ms/step - loss: 0.0212 - accuracy: 0.0000e+00 - val_loss: 0.0212 - val_accuracy: 0.0000e+00\n",
            "Epoch 40/100\n",
            "2/2 [==============================] - 0s 33ms/step - loss: 0.0212 - accuracy: 0.0000e+00 - val_loss: 0.0211 - val_accuracy: 0.0000e+00\n",
            "Epoch 41/100\n",
            "2/2 [==============================] - 0s 34ms/step - loss: 0.0211 - accuracy: 0.0000e+00 - val_loss: 0.0211 - val_accuracy: 0.0000e+00\n",
            "Epoch 42/100\n",
            "2/2 [==============================] - 0s 50ms/step - loss: 0.0211 - accuracy: 0.0000e+00 - val_loss: 0.0211 - val_accuracy: 0.0000e+00\n",
            "Epoch 43/100\n",
            "2/2 [==============================] - 0s 34ms/step - loss: 0.0211 - accuracy: 0.0000e+00 - val_loss: 0.0211 - val_accuracy: 0.0000e+00\n",
            "Epoch 44/100\n",
            "2/2 [==============================] - 0s 35ms/step - loss: 0.0211 - accuracy: 0.0000e+00 - val_loss: 0.0211 - val_accuracy: 0.0000e+00\n",
            "Epoch 45/100\n",
            "2/2 [==============================] - 0s 35ms/step - loss: 0.0211 - accuracy: 0.0000e+00 - val_loss: 0.0211 - val_accuracy: 0.0000e+00\n",
            "Epoch 46/100\n",
            "2/2 [==============================] - 0s 34ms/step - loss: 0.0211 - accuracy: 0.0000e+00 - val_loss: 0.0211 - val_accuracy: 0.0000e+00\n",
            "Epoch 47/100\n",
            "2/2 [==============================] - 0s 37ms/step - loss: 0.0211 - accuracy: 0.0000e+00 - val_loss: 0.0211 - val_accuracy: 0.0000e+00\n",
            "Epoch 48/100\n",
            "2/2 [==============================] - 0s 31ms/step - loss: 0.0211 - accuracy: 0.0000e+00 - val_loss: 0.0211 - val_accuracy: 0.0000e+00\n",
            "Epoch 49/100\n",
            "2/2 [==============================] - 0s 35ms/step - loss: 0.0211 - accuracy: 0.0000e+00 - val_loss: 0.0211 - val_accuracy: 0.0000e+00\n",
            "Epoch 50/100\n",
            "2/2 [==============================] - 0s 35ms/step - loss: 0.0211 - accuracy: 0.0000e+00 - val_loss: 0.0210 - val_accuracy: 0.0000e+00\n",
            "Epoch 51/100\n",
            "2/2 [==============================] - 0s 42ms/step - loss: 0.0210 - accuracy: 0.0000e+00 - val_loss: 0.0210 - val_accuracy: 0.0000e+00\n",
            "Epoch 52/100\n",
            "2/2 [==============================] - 0s 35ms/step - loss: 0.0210 - accuracy: 0.0000e+00 - val_loss: 0.0210 - val_accuracy: 0.0000e+00\n",
            "Epoch 53/100\n",
            "2/2 [==============================] - 0s 35ms/step - loss: 0.0210 - accuracy: 0.0000e+00 - val_loss: 0.0210 - val_accuracy: 0.0000e+00\n",
            "Epoch 54/100\n",
            "2/2 [==============================] - 0s 32ms/step - loss: 0.0210 - accuracy: 0.0000e+00 - val_loss: 0.0210 - val_accuracy: 0.0000e+00\n",
            "Epoch 55/100\n",
            "2/2 [==============================] - 0s 35ms/step - loss: 0.0210 - accuracy: 0.0000e+00 - val_loss: 0.0210 - val_accuracy: 0.0000e+00\n",
            "Epoch 56/100\n",
            "2/2 [==============================] - 0s 42ms/step - loss: 0.0210 - accuracy: 0.0000e+00 - val_loss: 0.0210 - val_accuracy: 0.0000e+00\n",
            "Epoch 57/100\n",
            "2/2 [==============================] - 0s 37ms/step - loss: 0.0210 - accuracy: 0.0000e+00 - val_loss: 0.0210 - val_accuracy: 0.0000e+00\n",
            "Epoch 58/100\n",
            "2/2 [==============================] - 0s 38ms/step - loss: 0.0210 - accuracy: 0.0000e+00 - val_loss: 0.0210 - val_accuracy: 0.0000e+00\n",
            "Epoch 59/100\n",
            "2/2 [==============================] - 0s 47ms/step - loss: 0.0210 - accuracy: 0.0000e+00 - val_loss: 0.0210 - val_accuracy: 0.0000e+00\n",
            "Epoch 60/100\n",
            "2/2 [==============================] - 0s 39ms/step - loss: 0.0210 - accuracy: 0.0000e+00 - val_loss: 0.0210 - val_accuracy: 0.0000e+00\n",
            "Epoch 61/100\n",
            "2/2 [==============================] - 0s 35ms/step - loss: 0.0210 - accuracy: 0.0000e+00 - val_loss: 0.0210 - val_accuracy: 0.0000e+00\n",
            "Epoch 62/100\n",
            "2/2 [==============================] - 0s 35ms/step - loss: 0.0210 - accuracy: 0.0000e+00 - val_loss: 0.0210 - val_accuracy: 0.0000e+00\n",
            "Epoch 63/100\n",
            "2/2 [==============================] - 0s 33ms/step - loss: 0.0210 - accuracy: 0.0000e+00 - val_loss: 0.0210 - val_accuracy: 0.0000e+00\n",
            "Epoch 64/100\n",
            "2/2 [==============================] - 0s 37ms/step - loss: 0.0210 - accuracy: 0.0000e+00 - val_loss: 0.0210 - val_accuracy: 0.0000e+00\n",
            "Epoch 65/100\n",
            "2/2 [==============================] - 0s 35ms/step - loss: 0.0210 - accuracy: 0.0000e+00 - val_loss: 0.0210 - val_accuracy: 0.0000e+00\n",
            "Epoch 66/100\n",
            "2/2 [==============================] - 0s 45ms/step - loss: 0.0210 - accuracy: 0.0000e+00 - val_loss: 0.0209 - val_accuracy: 0.0000e+00\n",
            "Epoch 67/100\n",
            "2/2 [==============================] - 0s 35ms/step - loss: 0.0209 - accuracy: 0.0000e+00 - val_loss: 0.0209 - val_accuracy: 0.0000e+00\n",
            "Epoch 68/100\n",
            "2/2 [==============================] - 0s 39ms/step - loss: 0.0209 - accuracy: 0.0000e+00 - val_loss: 0.0209 - val_accuracy: 0.0000e+00\n",
            "Epoch 69/100\n",
            "2/2 [==============================] - 0s 39ms/step - loss: 0.0209 - accuracy: 0.0000e+00 - val_loss: 0.0209 - val_accuracy: 0.0000e+00\n",
            "Epoch 70/100\n",
            "2/2 [==============================] - 0s 35ms/step - loss: 0.0209 - accuracy: 0.0000e+00 - val_loss: 0.0209 - val_accuracy: 0.0000e+00\n",
            "Epoch 71/100\n",
            "2/2 [==============================] - 0s 33ms/step - loss: 0.0209 - accuracy: 0.0000e+00 - val_loss: 0.0209 - val_accuracy: 0.0000e+00\n",
            "Epoch 72/100\n",
            "2/2 [==============================] - 0s 33ms/step - loss: 0.0209 - accuracy: 0.0000e+00 - val_loss: 0.0209 - val_accuracy: 0.0000e+00\n",
            "Epoch 73/100\n",
            "2/2 [==============================] - 0s 31ms/step - loss: 0.0209 - accuracy: 0.0000e+00 - val_loss: 0.0209 - val_accuracy: 0.0000e+00\n",
            "Epoch 74/100\n",
            "2/2 [==============================] - 0s 35ms/step - loss: 0.0209 - accuracy: 0.0000e+00 - val_loss: 0.0209 - val_accuracy: 0.0000e+00\n",
            "Epoch 75/100\n",
            "2/2 [==============================] - 0s 42ms/step - loss: 0.0209 - accuracy: 0.0000e+00 - val_loss: 0.0209 - val_accuracy: 0.0000e+00\n",
            "Epoch 76/100\n",
            "2/2 [==============================] - 0s 39ms/step - loss: 0.0209 - accuracy: 0.0000e+00 - val_loss: 0.0209 - val_accuracy: 0.0000e+00\n",
            "Epoch 77/100\n",
            "2/2 [==============================] - 0s 41ms/step - loss: 0.0209 - accuracy: 0.0000e+00 - val_loss: 0.0209 - val_accuracy: 0.0000e+00\n",
            "Epoch 78/100\n",
            "2/2 [==============================] - 0s 35ms/step - loss: 0.0209 - accuracy: 0.0000e+00 - val_loss: 0.0209 - val_accuracy: 0.0000e+00\n",
            "Epoch 79/100\n",
            "2/2 [==============================] - 0s 50ms/step - loss: 0.0209 - accuracy: 0.0000e+00 - val_loss: 0.0209 - val_accuracy: 0.0000e+00\n",
            "Epoch 80/100\n",
            "2/2 [==============================] - 0s 33ms/step - loss: 0.0209 - accuracy: 0.0000e+00 - val_loss: 0.0209 - val_accuracy: 0.0000e+00\n",
            "Epoch 81/100\n",
            "2/2 [==============================] - 0s 33ms/step - loss: 0.0209 - accuracy: 0.0000e+00 - val_loss: 0.0209 - val_accuracy: 0.0000e+00\n",
            "Epoch 82/100\n",
            "2/2 [==============================] - 0s 32ms/step - loss: 0.0209 - accuracy: 0.0000e+00 - val_loss: 0.0209 - val_accuracy: 0.0000e+00\n",
            "Epoch 83/100\n",
            "2/2 [==============================] - 0s 31ms/step - loss: 0.0209 - accuracy: 0.0000e+00 - val_loss: 0.0209 - val_accuracy: 0.0000e+00\n",
            "Epoch 84/100\n",
            "2/2 [==============================] - 0s 48ms/step - loss: 0.0209 - accuracy: 0.0000e+00 - val_loss: 0.0209 - val_accuracy: 0.0000e+00\n",
            "Epoch 85/100\n",
            "2/2 [==============================] - 0s 40ms/step - loss: 0.0209 - accuracy: 0.0000e+00 - val_loss: 0.0209 - val_accuracy: 0.0000e+00\n",
            "Epoch 86/100\n",
            "2/2 [==============================] - 0s 33ms/step - loss: 0.0209 - accuracy: 0.0000e+00 - val_loss: 0.0209 - val_accuracy: 0.0000e+00\n",
            "Epoch 87/100\n",
            "2/2 [==============================] - 0s 37ms/step - loss: 0.0209 - accuracy: 0.0000e+00 - val_loss: 0.0209 - val_accuracy: 0.0000e+00\n",
            "Epoch 88/100\n",
            "2/2 [==============================] - 0s 49ms/step - loss: 0.0209 - accuracy: 0.0000e+00 - val_loss: 0.0209 - val_accuracy: 0.0000e+00\n",
            "Epoch 89/100\n",
            "2/2 [==============================] - 0s 36ms/step - loss: 0.0209 - accuracy: 0.0000e+00 - val_loss: 0.0209 - val_accuracy: 0.0000e+00\n",
            "Epoch 90/100\n",
            "2/2 [==============================] - 0s 48ms/step - loss: 0.0209 - accuracy: 0.0000e+00 - val_loss: 0.0209 - val_accuracy: 0.0000e+00\n",
            "Epoch 91/100\n",
            "2/2 [==============================] - 0s 36ms/step - loss: 0.0209 - accuracy: 0.0000e+00 - val_loss: 0.0209 - val_accuracy: 0.0000e+00\n",
            "Epoch 92/100\n",
            "2/2 [==============================] - 0s 38ms/step - loss: 0.0209 - accuracy: 0.0000e+00 - val_loss: 0.0209 - val_accuracy: 0.0000e+00\n",
            "Epoch 93/100\n",
            "2/2 [==============================] - 0s 53ms/step - loss: 0.0209 - accuracy: 0.0000e+00 - val_loss: 0.0209 - val_accuracy: 0.0000e+00\n",
            "Epoch 94/100\n",
            "2/2 [==============================] - 0s 32ms/step - loss: 0.0209 - accuracy: 0.0000e+00 - val_loss: 0.0209 - val_accuracy: 0.0000e+00\n",
            "Epoch 95/100\n",
            "2/2 [==============================] - 0s 34ms/step - loss: 0.0209 - accuracy: 0.0000e+00 - val_loss: 0.0209 - val_accuracy: 0.0000e+00\n",
            "Epoch 96/100\n",
            "2/2 [==============================] - 0s 35ms/step - loss: 0.0209 - accuracy: 0.0000e+00 - val_loss: 0.0209 - val_accuracy: 0.0000e+00\n",
            "Epoch 97/100\n",
            "2/2 [==============================] - 0s 37ms/step - loss: 0.0209 - accuracy: 0.0000e+00 - val_loss: 0.0209 - val_accuracy: 0.0000e+00\n",
            "Epoch 98/100\n",
            "2/2 [==============================] - 0s 39ms/step - loss: 0.0209 - accuracy: 0.0000e+00 - val_loss: 0.0209 - val_accuracy: 0.0000e+00\n",
            "Epoch 99/100\n",
            "2/2 [==============================] - 0s 34ms/step - loss: 0.0209 - accuracy: 0.0000e+00 - val_loss: 0.0209 - val_accuracy: 0.0000e+00\n",
            "Epoch 100/100\n",
            "2/2 [==============================] - 0s 33ms/step - loss: 0.0209 - accuracy: 0.0000e+00 - val_loss: 0.0209 - val_accuracy: 0.0000e+00\n"
          ]
        }
      ]
    },
    {
      "cell_type": "code",
      "metadata": {
        "colab": {
          "base_uri": "https://localhost:8080/"
        },
        "id": "hZPMd6sFcebx",
        "outputId": "cde0f6c5-0a73-4ac6-865c-8b6a07629d58"
      },
      "source": [
        "model.summary()"
      ],
      "execution_count": 21,
      "outputs": [
        {
          "output_type": "stream",
          "name": "stdout",
          "text": [
            "Model: \"sequential_4\"\n",
            "_________________________________________________________________\n",
            "Layer (type)                 Output Shape              Param #   \n",
            "=================================================================\n",
            "lstm_24 (LSTM)               (None, 1, 3)              84        \n",
            "_________________________________________________________________\n",
            "lstm_25 (LSTM)               (None, 1, 3)              84        \n",
            "_________________________________________________________________\n",
            "lstm_26 (LSTM)               (None, 1, 3)              84        \n",
            "_________________________________________________________________\n",
            "lstm_27 (LSTM)               (None, 1, 3)              84        \n",
            "_________________________________________________________________\n",
            "lstm_28 (LSTM)               (None, 1, 3)              84        \n",
            "_________________________________________________________________\n",
            "lstm_29 (LSTM)               (None, 1, 3)              84        \n",
            "=================================================================\n",
            "Total params: 504\n",
            "Trainable params: 504\n",
            "Non-trainable params: 0\n",
            "_________________________________________________________________\n"
          ]
        }
      ]
    },
    {
      "cell_type": "code",
      "metadata": {
        "id": "31FBv8VWbLC5"
      },
      "source": [
        "results= model.predict(data)\n"
      ],
      "execution_count": 16,
      "outputs": []
    },
    {
      "cell_type": "code",
      "metadata": {
        "colab": {
          "base_uri": "https://localhost:8080/",
          "height": 651
        },
        "id": "8iNEY0U8by7D",
        "outputId": "ffa066ba-4abc-4e4c-d7e2-32959735d8de"
      },
      "source": [
        "# to plt and see whether my prediction are good or not\n",
        "plt.scatter(range(20),results,c='r')\n",
        "plt.scatter(range(20),target,c='g')\n",
        "plt.show()"
      ],
      "execution_count": 28,
      "outputs": [
        {
          "output_type": "error",
          "ename": "ValueError",
          "evalue": "ignored",
          "traceback": [
            "\u001b[0;31m---------------------------------------------------------------------------\u001b[0m",
            "\u001b[0;31mValueError\u001b[0m                                Traceback (most recent call last)",
            "\u001b[0;32m<ipython-input-28-4dc04d447d58>\u001b[0m in \u001b[0;36m<module>\u001b[0;34m()\u001b[0m\n\u001b[1;32m      1\u001b[0m \u001b[0;31m# to plt and see whether my prediction are good or not\u001b[0m\u001b[0;34m\u001b[0m\u001b[0;34m\u001b[0m\u001b[0;34m\u001b[0m\u001b[0m\n\u001b[0;32m----> 2\u001b[0;31m \u001b[0mplt\u001b[0m\u001b[0;34m.\u001b[0m\u001b[0mscatter\u001b[0m\u001b[0;34m(\u001b[0m\u001b[0mrange\u001b[0m\u001b[0;34m(\u001b[0m\u001b[0;36m20\u001b[0m\u001b[0;34m)\u001b[0m\u001b[0;34m,\u001b[0m\u001b[0mresults\u001b[0m\u001b[0;34m,\u001b[0m\u001b[0mc\u001b[0m\u001b[0;34m=\u001b[0m\u001b[0;34m'r'\u001b[0m\u001b[0;34m)\u001b[0m\u001b[0;34m\u001b[0m\u001b[0;34m\u001b[0m\u001b[0m\n\u001b[0m\u001b[1;32m      3\u001b[0m \u001b[0mplt\u001b[0m\u001b[0;34m.\u001b[0m\u001b[0mscatter\u001b[0m\u001b[0;34m(\u001b[0m\u001b[0mrange\u001b[0m\u001b[0;34m(\u001b[0m\u001b[0;36m20\u001b[0m\u001b[0;34m)\u001b[0m\u001b[0;34m,\u001b[0m\u001b[0mtarget\u001b[0m\u001b[0;34m,\u001b[0m\u001b[0mc\u001b[0m\u001b[0;34m=\u001b[0m\u001b[0;34m'g'\u001b[0m\u001b[0;34m)\u001b[0m\u001b[0;34m\u001b[0m\u001b[0;34m\u001b[0m\u001b[0m\n\u001b[1;32m      4\u001b[0m \u001b[0mplt\u001b[0m\u001b[0;34m.\u001b[0m\u001b[0mshow\u001b[0m\u001b[0;34m(\u001b[0m\u001b[0;34m)\u001b[0m\u001b[0;34m\u001b[0m\u001b[0;34m\u001b[0m\u001b[0m\n",
            "\u001b[0;32m/usr/local/lib/python3.7/dist-packages/matplotlib/pyplot.py\u001b[0m in \u001b[0;36mscatter\u001b[0;34m(x, y, s, c, marker, cmap, norm, vmin, vmax, alpha, linewidths, verts, edgecolors, plotnonfinite, data, **kwargs)\u001b[0m\n\u001b[1;32m   2814\u001b[0m         \u001b[0mverts\u001b[0m\u001b[0;34m=\u001b[0m\u001b[0mverts\u001b[0m\u001b[0;34m,\u001b[0m \u001b[0medgecolors\u001b[0m\u001b[0;34m=\u001b[0m\u001b[0medgecolors\u001b[0m\u001b[0;34m,\u001b[0m\u001b[0;34m\u001b[0m\u001b[0;34m\u001b[0m\u001b[0m\n\u001b[1;32m   2815\u001b[0m         plotnonfinite=plotnonfinite, **({\"data\": data} if data is not\n\u001b[0;32m-> 2816\u001b[0;31m         None else {}), **kwargs)\n\u001b[0m\u001b[1;32m   2817\u001b[0m     \u001b[0msci\u001b[0m\u001b[0;34m(\u001b[0m\u001b[0m__ret\u001b[0m\u001b[0;34m)\u001b[0m\u001b[0;34m\u001b[0m\u001b[0;34m\u001b[0m\u001b[0m\n\u001b[1;32m   2818\u001b[0m     \u001b[0;32mreturn\u001b[0m \u001b[0m__ret\u001b[0m\u001b[0;34m\u001b[0m\u001b[0;34m\u001b[0m\u001b[0m\n",
            "\u001b[0;32m/usr/local/lib/python3.7/dist-packages/matplotlib/__init__.py\u001b[0m in \u001b[0;36minner\u001b[0;34m(ax, data, *args, **kwargs)\u001b[0m\n\u001b[1;32m   1563\u001b[0m     \u001b[0;32mdef\u001b[0m \u001b[0minner\u001b[0m\u001b[0;34m(\u001b[0m\u001b[0max\u001b[0m\u001b[0;34m,\u001b[0m \u001b[0;34m*\u001b[0m\u001b[0margs\u001b[0m\u001b[0;34m,\u001b[0m \u001b[0mdata\u001b[0m\u001b[0;34m=\u001b[0m\u001b[0;32mNone\u001b[0m\u001b[0;34m,\u001b[0m \u001b[0;34m**\u001b[0m\u001b[0mkwargs\u001b[0m\u001b[0;34m)\u001b[0m\u001b[0;34m:\u001b[0m\u001b[0;34m\u001b[0m\u001b[0;34m\u001b[0m\u001b[0m\n\u001b[1;32m   1564\u001b[0m         \u001b[0;32mif\u001b[0m \u001b[0mdata\u001b[0m \u001b[0;32mis\u001b[0m \u001b[0;32mNone\u001b[0m\u001b[0;34m:\u001b[0m\u001b[0;34m\u001b[0m\u001b[0;34m\u001b[0m\u001b[0m\n\u001b[0;32m-> 1565\u001b[0;31m             \u001b[0;32mreturn\u001b[0m \u001b[0mfunc\u001b[0m\u001b[0;34m(\u001b[0m\u001b[0max\u001b[0m\u001b[0;34m,\u001b[0m \u001b[0;34m*\u001b[0m\u001b[0mmap\u001b[0m\u001b[0;34m(\u001b[0m\u001b[0msanitize_sequence\u001b[0m\u001b[0;34m,\u001b[0m \u001b[0margs\u001b[0m\u001b[0;34m)\u001b[0m\u001b[0;34m,\u001b[0m \u001b[0;34m**\u001b[0m\u001b[0mkwargs\u001b[0m\u001b[0;34m)\u001b[0m\u001b[0;34m\u001b[0m\u001b[0;34m\u001b[0m\u001b[0m\n\u001b[0m\u001b[1;32m   1566\u001b[0m \u001b[0;34m\u001b[0m\u001b[0m\n\u001b[1;32m   1567\u001b[0m         \u001b[0mbound\u001b[0m \u001b[0;34m=\u001b[0m \u001b[0mnew_sig\u001b[0m\u001b[0;34m.\u001b[0m\u001b[0mbind\u001b[0m\u001b[0;34m(\u001b[0m\u001b[0max\u001b[0m\u001b[0;34m,\u001b[0m \u001b[0;34m*\u001b[0m\u001b[0margs\u001b[0m\u001b[0;34m,\u001b[0m \u001b[0;34m**\u001b[0m\u001b[0mkwargs\u001b[0m\u001b[0;34m)\u001b[0m\u001b[0;34m\u001b[0m\u001b[0;34m\u001b[0m\u001b[0m\n",
            "\u001b[0;32m/usr/local/lib/python3.7/dist-packages/matplotlib/cbook/deprecation.py\u001b[0m in \u001b[0;36mwrapper\u001b[0;34m(*args, **kwargs)\u001b[0m\n\u001b[1;32m    356\u001b[0m                 \u001b[0;34mf\"%(removal)s.  If any parameter follows {name!r}, they \"\u001b[0m\u001b[0;34m\u001b[0m\u001b[0;34m\u001b[0m\u001b[0m\n\u001b[1;32m    357\u001b[0m                 f\"should be pass as keyword, not positionally.\")\n\u001b[0;32m--> 358\u001b[0;31m         \u001b[0;32mreturn\u001b[0m \u001b[0mfunc\u001b[0m\u001b[0;34m(\u001b[0m\u001b[0;34m*\u001b[0m\u001b[0margs\u001b[0m\u001b[0;34m,\u001b[0m \u001b[0;34m**\u001b[0m\u001b[0mkwargs\u001b[0m\u001b[0;34m)\u001b[0m\u001b[0;34m\u001b[0m\u001b[0;34m\u001b[0m\u001b[0m\n\u001b[0m\u001b[1;32m    359\u001b[0m \u001b[0;34m\u001b[0m\u001b[0m\n\u001b[1;32m    360\u001b[0m     \u001b[0;32mreturn\u001b[0m \u001b[0mwrapper\u001b[0m\u001b[0;34m\u001b[0m\u001b[0;34m\u001b[0m\u001b[0m\n",
            "\u001b[0;32m/usr/local/lib/python3.7/dist-packages/matplotlib/axes/_axes.py\u001b[0m in \u001b[0;36mscatter\u001b[0;34m(self, x, y, s, c, marker, cmap, norm, vmin, vmax, alpha, linewidths, verts, edgecolors, plotnonfinite, **kwargs)\u001b[0m\n\u001b[1;32m   4389\u001b[0m         \u001b[0my\u001b[0m \u001b[0;34m=\u001b[0m \u001b[0mnp\u001b[0m\u001b[0;34m.\u001b[0m\u001b[0mma\u001b[0m\u001b[0;34m.\u001b[0m\u001b[0mravel\u001b[0m\u001b[0;34m(\u001b[0m\u001b[0my\u001b[0m\u001b[0;34m)\u001b[0m\u001b[0;34m\u001b[0m\u001b[0;34m\u001b[0m\u001b[0m\n\u001b[1;32m   4390\u001b[0m         \u001b[0;32mif\u001b[0m \u001b[0mx\u001b[0m\u001b[0;34m.\u001b[0m\u001b[0msize\u001b[0m \u001b[0;34m!=\u001b[0m \u001b[0my\u001b[0m\u001b[0;34m.\u001b[0m\u001b[0msize\u001b[0m\u001b[0;34m:\u001b[0m\u001b[0;34m\u001b[0m\u001b[0;34m\u001b[0m\u001b[0m\n\u001b[0;32m-> 4391\u001b[0;31m             \u001b[0;32mraise\u001b[0m \u001b[0mValueError\u001b[0m\u001b[0;34m(\u001b[0m\u001b[0;34m\"x and y must be the same size\"\u001b[0m\u001b[0;34m)\u001b[0m\u001b[0;34m\u001b[0m\u001b[0;34m\u001b[0m\u001b[0m\n\u001b[0m\u001b[1;32m   4392\u001b[0m \u001b[0;34m\u001b[0m\u001b[0m\n\u001b[1;32m   4393\u001b[0m         \u001b[0;32mif\u001b[0m \u001b[0ms\u001b[0m \u001b[0;32mis\u001b[0m \u001b[0;32mNone\u001b[0m\u001b[0;34m:\u001b[0m\u001b[0;34m\u001b[0m\u001b[0;34m\u001b[0m\u001b[0m\n",
            "\u001b[0;31mValueError\u001b[0m: x and y must be the same size"
          ]
        },
        {
          "output_type": "display_data",
          "data": {
            "image/png": "[encoded data removed]",
            "text/plain": [
              "<Figure size 432x288 with 1 Axes>"
            ]
          },
          "metadata": {
            "needs_background": "light"
          }
        }
      ]
    },
    {
      "cell_type": "code",
      "metadata": {
        "colab": {
          "base_uri": "https://localhost:8080/",
          "height": 264
        },
        "id": "2e8GTNjFeM4w",
        "outputId": "30d257da-e835-47ab-84e3-97b712c53035"
      },
      "source": [
        "# as we can see loss has not finally becoming flat therefore try to create more epochs or change hyperparamter\n",
        "plt.plot(history.history['loss'])\n",
        "plt.show()"
      ],
      "execution_count": 29,
      "outputs": [
        {
          "output_type": "display_data",
          "data": {
            "image/png": "[encoded data removed]",
            "text/plain": [
              "<Figure size 432x288 with 1 Axes>"
            ]
          },
          "metadata": {
            "needs_background": "light"
          }
        }
      ]
    },
    {
      "cell_type": "code",
      "metadata": {
        "id": "0vBA16yzfpXH"
      },
      "source": [
        ""
      ],
      "execution_count": null,
      "outputs": []
    }
  ]
}